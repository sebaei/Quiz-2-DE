{
  "nbformat": 4,
  "nbformat_minor": 0,
  "metadata": {
    "colab": {
      "name": "Quiz2_CSEN1095_Ver1.ipynb",
      "provenance": []
    },
    "kernelspec": {
      "name": "python3",
      "display_name": "Python 3"
    }
  },
  "cells": [
    {
      "cell_type": "markdown",
      "metadata": {
        "id": "Yma7CbRC8dOa"
      },
      "source": [
        "#**Question 1:**\r\n",
        "\r\n",
        "Merge the below dataset using the `join` function. Note that by default `join` does a Left join.\r\n",
        "\r\n",
        "1. https://raw.githubusercontent.com/shanealynn/Pandas-Merge-Tutorial/master/user_device.csv\r\n",
        "2. https://raw.githubusercontent.com/shanealynn/Pandas-Merge-Tutorial/master/user_usage.csv \r\n"
      ]
    },
    {
      "cell_type": "code",
      "metadata": {
        "id": "Ylu6oXthgvk8"
      },
      "source": [
        "#Your code here"
      ],
      "execution_count": null,
      "outputs": []
    },
    {
      "cell_type": "markdown",
      "metadata": {
        "id": "xF15k5wVGquj"
      },
      "source": [
        "# **Question 2:**\r\n",
        "\r\n",
        "1. Engineer **1** feature that is going to add value to the dataset that resulted from the join in Question 1.\r\n",
        "2. State the name of the feature engineering approach technique you used.\r\n",
        "3. State how will this feature contribute to the dataset."
      ]
    },
    {
      "cell_type": "code",
      "metadata": {
        "id": "NG92ralmg0Mr"
      },
      "source": [
        "#Your code here"
      ],
      "execution_count": null,
      "outputs": []
    }
  ]
}